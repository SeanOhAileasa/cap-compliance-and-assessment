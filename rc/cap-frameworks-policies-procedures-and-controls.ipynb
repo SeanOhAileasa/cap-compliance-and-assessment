{
 "cells": [
  {
   "cell_type": "markdown",
   "id": "d4ee9e4b",
   "metadata": {},
   "source": [
    "***\n",
    "< [Home](https://github.com/SeanOhAileasa) | [README](https://github.com/SeanOhAileasa/cap-compliance-and-assessment/blob/main/README.md) >\n",
    "\n",
    "## CompTIA Cybersecurity Analyst (CySA+) - Course Material 2022\n",
    "###### Topic: ``Frameworks Policies Procedures and Controls``\n",
    "***"
   ]
  },
  {
   "cell_type": "markdown",
   "id": "b82b07fb",
   "metadata": {},
   "source": [
    "Course material for the ``CompTIA Cybersecurity Analyst (CySA+)`` module of the ``ICT Associate Apprenticeship (Cybersecurity)`` programme."
   ]
  },
  {
   "cell_type": "markdown",
   "id": "e7228f57",
   "metadata": {},
   "source": [
    "<a id=\"top\"></a>\n",
    "***\n",
    "## Table of Contents\n",
    "***"
   ]
  },
  {
   "cell_type": "markdown",
   "id": "c2bb5e7b",
   "metadata": {},
   "source": [
    "### [Frameworks Policies Procedures and Controls](#a) <br/><br/>\n",
    "\n",
    "- [Security Roles and Responsibilities](#1) <br/><br/> \n",
    "- [Security Control Categories and Types](#2) <br/><br/> \n",
    "- [Frameworks and Policies and Procedures](#3) <br/><br/> \n",
    "    - [``NIST Cybersecurity Framework``](#4) <br/><br/> \n",
    "- [Audits and Assessments](#5) <br/><br/> \n",
    "- [Password Policies](#6) <br/><br/> \n",
    "- [Conduct and Use Policies](#7) <br/><br/> \n",
    "- [Personal Data Processing Policies](#8) <br/><br/> \n",
    "- [Data Retention](#9) <br/><br/> \n",
    "- [Data Ownership](#10)\n",
    "\n",
    "<hr width=50%;>"
   ]
  },
  {
   "cell_type": "markdown",
   "id": "bf2b95e2",
   "metadata": {},
   "source": [
    "***\n",
    "## END"
   ]
  },
  {
   "cell_type": "markdown",
   "id": "34aa6eb5",
   "metadata": {},
   "source": [
    "< [Table of Contents](#top) | [References](#references) >\n",
    "<a id=\"a\"></a>\n",
    "***\n",
    "### Frameworks Policies Procedures and Controls\n",
    "***"
   ]
  },
  {
   "cell_type": "markdown",
   "id": "173e78b5",
   "metadata": {},
   "source": [
    "> Identify security control types\n",
    "\n",
    "\n",
    "> Explain the different frameworks, policies, and procedures\n",
    "\n",
    "\n",
    "> Explain IAM importance\n",
    "\n",
    "\n",
    "> Distinguish between technical and non-technical privacy controls"
   ]
  },
  {
   "cell_type": "markdown",
   "id": "abdc5925",
   "metadata": {},
   "source": [
    "< [Table of Contents](#top) | [References](#references) >\n",
    "<a id=\"1\"></a>\n",
    "***\n",
    "###### Security Roles and Responsibilities\n",
    "***"
   ]
  },
  {
   "cell_type": "markdown",
   "id": "af78ee52",
   "metadata": {},
   "source": [
    "Whether you are a security analyst or engineer, you more than likely report up to the Chief Information Security Officer (``CISO``). \n",
    "\n",
    "Common responsibilities for both analysts and engineers alike include implementing security solutions. \n",
    "\n",
    "These solutions would involve auditing security controls in place, running incident response investigations, and performing risk assessments. \n",
    "\n",
    "Most security professionals will also work in some sort of Security Operations Center (``SOC``), where activities are best tailored to enhancing visibility and awareness to the overall state of security at a company."
   ]
  },
  {
   "cell_type": "markdown",
   "id": "a25ccfdf",
   "metadata": {},
   "source": [
    "< [Table of Contents](#top) | [References](#references) >\n",
    "<a id=\"2\"></a>\n",
    "***\n",
    "###### Security Control Categories and Types\n",
    "***"
   ]
  },
  {
   "cell_type": "markdown",
   "id": "680a1375",
   "metadata": {},
   "source": [
    "A security control is a technology or procedure put in place to mitigate vulnerabilities and risk to ensure the ``CIA Triad`` is upheld.\n",
    "\n",
    "> Security controls Categories\n",
    "\n",
    "Security controls can be broken down into 3 main categories depending on how the control is implemented and to which audience it is tailored to.\n",
    "\n",
    "- Technical / Logical\n",
    "\n",
    "A category of security control that is implemented as a system - technical controls may also be described as logical controls.\n",
    "\n",
    "- Operational\n",
    "\n",
    "A category of security control that is implemented by people.\n",
    "\n",
    "- Managerial\n",
    "\n",
    "A category of security control that gives oversight of the information system."
   ]
  },
  {
   "cell_type": "markdown",
   "id": "fc742ac9",
   "metadata": {},
   "source": [
    "> Security controls Categories - Functional Types\n",
    "\n",
    "Then these categories are further broken down into functional types that are as follows:\n",
    "\n",
    "- Preventative\n",
    "\n",
    "A type of security control that acts before an incident to eliminate or reduce the likelihood that the attack will succeed.\n",
    "\n",
    "- Detective\n",
    "\n",
    "A type of security control that acts during an incident to identify or record that it is happening.\n",
    "\n",
    "- Corrective\n",
    "\n",
    "A type of security control that acts after an incident to eliminate or minimize its impact.\n",
    "\n",
    "- Physical\n",
    "\n",
    "A type of security control that acts against in-person intrusion attempts.\n",
    "\n",
    "- Deterrent\n",
    "\n",
    "A type of security control that discourages intrusion attempts.\n",
    "\n",
    "- Compensating\n",
    "\n",
    "A security measure that takes on risk mitigation when a primary control fails or cannot completely meet expectations."
   ]
  },
  {
   "cell_type": "markdown",
   "id": "f2d85730",
   "metadata": {},
   "source": [
    "It is important to understand how security controls are selected - the best approach is to use the ``CIA Triad`` in order to best place the proper control to the process at hand."
   ]
  },
  {
   "cell_type": "markdown",
   "id": "e4cec613",
   "metadata": {},
   "source": [
    "< [Table of Contents](#top) | [References](#references) >\n",
    "<a id=\"3\"></a>\n",
    "***\n",
    "###### Frameworks and Policies and Procedures\n",
    "***"
   ]
  },
  {
   "cell_type": "markdown",
   "id": "9fdb8d45",
   "metadata": {},
   "source": [
    "Key terms relating to Frameworks, Policies, and Procedures:\n",
    "\n",
    "> Enterprise Security Architecture - ``ESA``\n",
    "\n",
    "A framework for defining the baseline, goals, and methods used to secure a business.\n",
    "\n",
    "> Prescriptive Frameworks\n",
    "\n",
    "A framework that stipulates control selection and deployment.\n",
    "\n",
    "> Maturity Model\n",
    "\n",
    "A component of an ``ESA`` framework that is used to assess the formality and optimization of security control selection and usage, as well as address any gaps.\n",
    "\n",
    "> Risk-Based Frameworks\n",
    "\n",
    "A framework that uses risk assessments to prioritize security control selection and investment."
   ]
  },
  {
   "cell_type": "markdown",
   "id": "00a6c557",
   "metadata": {},
   "source": [
    "< [Table of Contents](#top) | [References](#references) >\n",
    "<a id=\"4\"></a>\n",
    "***\n",
    "###### Frameworks and Policies and Procedures - ``NIST Cybersecurity Framework``\n",
    "***"
   ]
  },
  {
   "cell_type": "markdown",
   "id": "7581f670",
   "metadata": {},
   "source": [
    "The [ [``NIST Cybersecurity Framework``](https://www.nist.gov/cyberframework) ] is broken down into the Framework Cores, Implementation Tiers, and Framework Profiles to better help place and guide risk decisions within an organization:\n",
    "\n",
    "> Framework Cores\n",
    "\n",
    "Identify, protect, detect, respond, and recover.\n",
    "\n",
    "> Implementation Tiers\n",
    "\n",
    "Partial, risk informed, repeatable, and adaptive.\n",
    "\n",
    "> Profiles\n",
    "\n",
    "Used to provide statements of specific outcomes to help identify time sensitive or high risk objectives."
   ]
  },
  {
   "cell_type": "markdown",
   "id": "a61b35ac",
   "metadata": {},
   "source": [
    "< [Table of Contents](#top) | [References](#references) >\n",
    "<a id=\"5\"></a>\n",
    "***\n",
    "###### Audits and Assessments\n",
    "***"
   ]
  },
  {
   "cell_type": "markdown",
   "id": "cb287d9c",
   "metadata": {},
   "source": [
    "There are several factors that come into play when auditing controls are in place for your risk program. \n",
    "\n",
    "It is important to have some version of quality control and assurances in place to keep the integrity of the audit in check. \n",
    "\n",
    "Also, having a solid process for performing regular occurring evaluations and then verification of these findings is a must. \n",
    "\n",
    "Lastly, setting aside time and resources to review the findings to make constant improvements is the only true way to ensure risk remediation can be completed.\n",
    "\n",
    "With this in mind, continuous monitoring is a technique of constantly evaluating an environment for changes so that new risk may be more quickly detected and business operations can be more quickly improved upon."
   ]
  },
  {
   "cell_type": "markdown",
   "id": "6dff5891",
   "metadata": {},
   "source": [
    "< [Table of Contents](#top) | [References](#references) >\n",
    "<a id=\"6\"></a>\n",
    "***\n",
    "###### Password Policies\n",
    "***"
   ]
  },
  {
   "cell_type": "markdown",
   "id": "06a7d399",
   "metadata": {},
   "source": [
    "Password Policies are essential for both compliance and security standpoints.\n",
    "\n",
    "These are documents that promote strong passwords by specifying a minimum password length, complexity, change schedules, and limits on password reuses.\n",
    "\n",
    "> [ [``NIST SP 800-63B``](https://csrc.nist.gov/publications/detail/sp/800-63b/final) ]\n",
    "\n",
    "Provides guidance on what is considered a secure policy and has also ruled out some previously known factors as no longer relevant.\n",
    "\n",
    "The following should no longer be enforced or used:\n",
    "\n",
    "- Complexity Rules\n",
    "\n",
    "\n",
    "- Aging Password Policies\n",
    "\n",
    "\n",
    "- Password Hints"
   ]
  },
  {
   "cell_type": "markdown",
   "id": "614b46a6",
   "metadata": {},
   "source": [
    "< [Table of Contents](#top) | [References](#references) >\n",
    "<a id=\"7\"></a>\n",
    "***\n",
    "###### Conduct and Use Policies\n",
    "***"
   ]
  },
  {
   "cell_type": "markdown",
   "id": "fd81c956",
   "metadata": {},
   "source": [
    "There are several user-related policies pertaining to how enterprise employees would interact with either sensitive or privileged data/systems - as follows:\n",
    "\n",
    "> Code of Conduct\n",
    "\n",
    "Professional behavior depends on basic ethical standards, such as honesty and fairness. \n",
    "\n",
    "Some professions may have developed codes of ethics to cover difficult situations - some businesses may also have a code of ethics to communicate the values it expects its employees to practice.\n",
    "\n",
    "> Privileged User Agreement - ``PUA``\n",
    "\n",
    "Contract terms stating a code of conduct for employees assigned high-level privileges on network and data systems.\n",
    "\n",
    "> Acceptable Use Policy - ``AUP``\n",
    "\n",
    "A policy that governs employees' use of company equipment and internet services - ISPs may also apply ``AUP`` to their customers - also known as ``Fair Use Policy``."
   ]
  },
  {
   "cell_type": "markdown",
   "id": "717415ac",
   "metadata": {},
   "source": [
    "< [Table of Contents](#top) | [References](#references) >\n",
    "<a id=\"8\"></a>\n",
    "***\n",
    "###### Personal Data Processing Policies\n",
    "***"
   ]
  },
  {
   "cell_type": "markdown",
   "id": "2cab39a6",
   "metadata": {},
   "source": [
    "Important terms to be aware of as it pertains to processing personal data:\n",
    "\n",
    "> Purpose Limitation\n",
    "\n",
    "The principle that personal information can be collected and processed only for a stated purpose to which the subject has given consent.\n",
    "\n",
    "> Data Minimization\n",
    "\n",
    "The principle that only necessary and sufficient personal information can be collected and processed for the stated purpose.\n",
    "\n",
    "> Data Sovereignty\n",
    "\n",
    "Jurisdiction laws preventing or restricting the processing and storage of data that does not physically reside within that jurisdiction."
   ]
  },
  {
   "cell_type": "markdown",
   "id": "048488f8",
   "metadata": {},
   "source": [
    "< [Table of Contents](#top) | [References](#references) >\n",
    "<a id=\"9\"></a>\n",
    "***\n",
    "###### Data Retention\n",
    "***"
   ]
  },
  {
   "cell_type": "markdown",
   "id": "b9e2e21f",
   "metadata": {},
   "source": [
    "It is vital on both security and compliance fronts that data retention policies are in place for both the destruction and storage of personal data. \n",
    "\n",
    "Data retention is the process an organization uses to maintain the existence of control over certain data in order to comply with business policies and laws/regulation.\n",
    "\n",
    "- It can be incriminating to keep data longer than you need to. \n",
    "\n",
    "A Data Retention Policy should include steps for:\n",
    "\n",
    "- Short-term storage and version control.\n",
    "\n",
    "\n",
    "- Long-term storage for legal and contractual requirements.\n",
    "\n",
    "\n",
    "- Steps for proper disposal or destruction of data after a specified retention period has ended."
   ]
  },
  {
   "cell_type": "markdown",
   "id": "e7b17048",
   "metadata": {},
   "source": [
    "< [Table of Contents](#top) | [References](#references) >\n",
    "<a id=\"10\"></a>\n",
    "***\n",
    "###### Data Ownership\n",
    "***"
   ]
  },
  {
   "cell_type": "markdown",
   "id": "0f448841",
   "metadata": {},
   "source": [
    "Data Ownership is the process of identifying the person responsible for the ``C``onfidentiality, ``I``ntegrity, and ``A``vailability within an organization, as well as privacy or information assets.\n",
    "\n",
    "Properly labeling and identifying ownership of data is an essential function that comes into play. \n",
    "\n",
    "> Data Ownership - Roles\n",
    "\n",
    "The following are some of the most common official roles that coincide with Data Ownership:\n",
    "\n",
    "- Data Owner\n",
    "\n",
    "Executive role with the responsibility for maintaining the ``CIA Triad`` over the data.\n",
    "\n",
    "- Data Steward\n",
    "\n",
    "Responsible for data quality, including labeling and storing.\n",
    "\n",
    "- Data Custodian\n",
    "\n",
    "Responsible for managing the systems that contain or support the data in question, including access controls, encryption, and maintenance of supporting systems.\n",
    "\n",
    "- Privacy Officer\n",
    "\n",
    "Responsible for oversight of ``PII``/``SPI``/``PHI`` assets and adheres to any legal or regulatory contracts in place."
   ]
  },
  {
   "cell_type": "markdown",
   "id": "2cc20932",
   "metadata": {},
   "source": [
    "***\n",
    "## END"
   ]
  },
  {
   "cell_type": "markdown",
   "id": "e0e42d51",
   "metadata": {},
   "source": [
    "< [Table of Contents](#top) >\n",
    "<a id=\"references\"></a>\n",
    "***\n",
    "## References\n",
    "***"
   ]
  },
  {
   "cell_type": "markdown",
   "id": "757bf6de",
   "metadata": {},
   "source": [
    "&nbsp;&nbsp;&nbsp;&nbsp;&nbsp;&nbsp;&nbsp;&nbsp;&nbsp;cybrary, \"Frameworks Policies Procedures and Controls,\" [cybrary.it](https://web.archive.org/web/20220724081418/https://www.cybrary.it/), n.d.."
   ]
  },
  {
   "cell_type": "markdown",
   "id": "b33c372a",
   "metadata": {},
   "source": [
    "***\n",
    "## END"
   ]
  },
  {
   "cell_type": "markdown",
   "id": "e5961b4d",
   "metadata": {},
   "source": [
    "< [Table of Contents](#top) | [References](#references) >\n",
    "<a id=\"appendix\"></a>\n",
    "***\n",
    "## Appendix\n",
    "***"
   ]
  },
  {
   "cell_type": "markdown",
   "id": "00d82a82",
   "metadata": {},
   "source": [
    "***\n",
    "## END"
   ]
  },
  {
   "cell_type": "code",
   "execution_count": 1,
   "id": "706756a2",
   "metadata": {},
   "outputs": [
    {
     "data": {
      "text/html": [
       "<style>.container { width:100% !important; }</style>"
      ],
      "text/plain": [
       "<IPython.core.display.HTML object>"
      ]
     },
     "metadata": {},
     "output_type": "display_data"
    }
   ],
   "source": [
    "from IPython.display import display,HTML\n",
    "display(HTML(\"<style>.container { width:100% !important; }</style>\"))"
   ]
  },
  {
   "cell_type": "markdown",
   "id": "899c1783",
   "metadata": {},
   "source": [
    "# END JUPYTER NOTEBOOK"
   ]
  }
 ],
 "metadata": {
  "kernelspec": {
   "display_name": "Python 3 (ipykernel)",
   "language": "python",
   "name": "python3"
  },
  "language_info": {
   "codemirror_mode": {
    "name": "ipython",
    "version": 3
   },
   "file_extension": ".py",
   "mimetype": "text/x-python",
   "name": "python",
   "nbconvert_exporter": "python",
   "pygments_lexer": "ipython3",
   "version": "3.9.12"
  }
 },
 "nbformat": 4,
 "nbformat_minor": 5
}
