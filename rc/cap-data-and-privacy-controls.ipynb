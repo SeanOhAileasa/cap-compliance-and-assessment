{
 "cells": [
  {
   "cell_type": "markdown",
   "id": "c5292697",
   "metadata": {},
   "source": [
    "***\n",
    "< [Home](https://github.com/SeanOhAileasa) | [README](https://github.com/SeanOhAileasa/cap-compliance-and-assessment/blob/main/README.md) >\n",
    "\n",
    "## CompTIA Cybersecurity Analyst (CySA+) - Course Material 2022\n",
    "###### Topic: ``Data and Privacy Controls``\n",
    "***"
   ]
  },
  {
   "cell_type": "markdown",
   "id": "b82b07fb",
   "metadata": {},
   "source": [
    "Course material for the ``CompTIA Cybersecurity Analyst (CySA+)`` module of the ``ICT Associate Apprenticeship (Cybersecurity)`` programme."
   ]
  },
  {
   "cell_type": "markdown",
   "id": "e7228f57",
   "metadata": {},
   "source": [
    "<a id=\"top\"></a>\n",
    "***\n",
    "## Table of Contents\n",
    "***"
   ]
  },
  {
   "cell_type": "markdown",
   "id": "c2bb5e7b",
   "metadata": {},
   "source": [
    "### [Data and Privacy Controls](#a) <br/><br/>\n",
    "\n",
    "- [Understanding the Importance of Data Privacy](#1) <br/><br/> \n",
    "- [Legal Requirements](#2) <br/><br/> \n",
    "- [Data Privacy and Sharing Agreements](#3) <br/><br/> \n",
    "- [Data Discovery and Classification](#4)\n",
    "\n",
    "<hr width=50%;>"
   ]
  },
  {
   "cell_type": "markdown",
   "id": "637fc602",
   "metadata": {},
   "source": [
    "### [Appendix](#appendix) <br/><br/>\n",
    "\n",
    "- [Other Terms](#appendix1)\n",
    "\n",
    "<hr width=50%;>"
   ]
  },
  {
   "cell_type": "markdown",
   "id": "bf2b95e2",
   "metadata": {},
   "source": [
    "***\n",
    "## END"
   ]
  },
  {
   "cell_type": "markdown",
   "id": "34aa6eb5",
   "metadata": {},
   "source": [
    "< [Table of Contents](#top) | [References](#references) >\n",
    "<a id=\"a\"></a>\n",
    "***\n",
    "### Data and Privacy Controls\n",
    "***"
   ]
  },
  {
   "cell_type": "markdown",
   "id": "ad4cd1cd",
   "metadata": {},
   "source": [
    "> Identify non-technical data and privacy controls\n",
    "\n",
    "> Explain technical data and privacy controls"
   ]
  },
  {
   "cell_type": "markdown",
   "id": "9d880655",
   "metadata": {},
   "source": [
    "< [Table of Contents](#top) | [References](#references) >\n",
    "<a id=\"1\"></a>\n",
    "***\n",
    "###### Understanding the Importance of Data Privacy\n",
    "***"
   ]
  },
  {
   "cell_type": "markdown",
   "id": "8a791a80",
   "metadata": {},
   "source": [
    "As it pertains to data privacy, it is vital to understand how data is classified - will determine how it needs to be treated from a compliance and security perspective. \n",
    "\n",
    "> Data Classification \n",
    "\n",
    "The process of applying confidentiality and privacy labels to information.\n",
    "\n",
    "> Data Governance \n",
    "\n",
    "Manufactured in 4 main categories:\n",
    "\n",
    "- Classifying how data is created and collected.\n",
    "\n",
    "\n",
    "- Properly securing data, whether it is being stored or used as backup.\n",
    "\n",
    "\n",
    "- Managing data when it needs to be disseminated to consumers.\n",
    "\n",
    "\n",
    "- Determine whether data needs to be retained or destroyed.\n",
    "\n",
    "> Data Confidentiality and Classification\n",
    "\n",
    "The easiest way to remember Data Confidentiality and Classification is by using what the military uses as follows:\n",
    "\n",
    "- Unclassified\n",
    "\n",
    "Public data.\n",
    "\n",
    "- Classified\n",
    "\n",
    "Private for internal use only; restricted to authorized users.\n",
    "\n",
    "- Confidential\n",
    "\n",
    "Highly sensitive; restricted to approved parties.\n",
    "\n",
    "- Secret\n",
    "\n",
    "Viewing is highly restricted, too valuable to leak.\n",
    "\n",
    "- Top Secret\n",
    "\n",
    "Highest level of classification."
   ]
  },
  {
   "cell_type": "markdown",
   "id": "c1a813b1",
   "metadata": {},
   "source": [
    "Further classification can be accomplished as well by breaking the data up into data types and even data schemes."
   ]
  },
  {
   "cell_type": "markdown",
   "id": "36f27b98",
   "metadata": {},
   "source": [
    "< [Table of Contents](#top) | [References](#references) >\n",
    "<a id=\"2\"></a>\n",
    "***\n",
    "###### Legal Requirements\n",
    "***"
   ]
  },
  {
   "cell_type": "markdown",
   "id": "cef3b272",
   "metadata": {},
   "source": [
    "It will be important to have a solid understanding of the following regulating bodies and some of the high-level requirements that are enforced surrounding data privacy:\n",
    "\n",
    "\n",
    "- General Data Protection Regulation - ``GDRP``\n",
    "\n",
    "\n",
    "- Sarbanes-Oxley Act - ``SOX``\n",
    "\n",
    "\n",
    "- Gramm-Leach Bliley Act - ``GLBA``\n",
    "\n",
    "\n",
    "- Federal Information Security Management Act - ``FISMA``\n",
    "\n",
    "\n",
    "- Committee of Sponsoring Organizations of the Treadway Commission - ``COSO``\n",
    "\n",
    "\n",
    "- Health Insurance Portability and Accountability Act - ``HIPAA``\n",
    "\n",
    "\n",
    "Need to look into each one of these and understand information like:\n",
    "\n",
    "\n",
    "- What industry does each apply to?\n",
    "\n",
    "\n",
    "- What is the breach notification timeframe?\n",
    "\n",
    "\n",
    "- What is the retention timeframe?"
   ]
  },
  {
   "cell_type": "markdown",
   "id": "cd364843",
   "metadata": {},
   "source": [
    "< [Table of Contents](#top) | [References](#references) >\n",
    "<a id=\"3\"></a>\n",
    "***\n",
    "###### Data Privacy and Sharing Agreements\n",
    "***"
   ]
  },
  {
   "cell_type": "markdown",
   "id": "cab08d6d",
   "metadata": {},
   "source": [
    "Agreements to be familiar with as you will most certainly encounter them within the workplace - may have to sign when taking a job opportunity with your employer:\n",
    "\n",
    "- Service-Level Agreement - ``SLA``\n",
    "\n",
    "An agreement that lays out the terms of a service being provided, including security and risk relations as it pertains to data.\n",
    "\n",
    "- Interconnection Security Agreement - ``ISA``\n",
    "\n",
    "A federal agreement between a third-party that must be completed to establish a relationship.\n",
    "\n",
    "- Non-Disclosure Agreement - ``NDA``\n",
    "\n",
    "A legal agreement for protecting sensitive information between two opposing parties; if broken, legal withstandings may proceed.\n",
    "\n",
    "- Data Sharing and Use Agreement\n",
    "\n",
    "An agreement stating that personal data may only be collected and used for its intended purpose, and nothing more, without explicit consent of the affected party."
   ]
  },
  {
   "cell_type": "markdown",
   "id": "a5860ae2",
   "metadata": {},
   "source": [
    "< [Table of Contents](#top) | [References](#references) >\n",
    "<a id=\"4\"></a>\n",
    "***\n",
    "###### Data Discovery and Classification\n",
    "***"
   ]
  },
  {
   "cell_type": "markdown",
   "id": "7658bb55",
   "metadata": {},
   "source": [
    "As it pertains to locating and classifying data, a ``DLP`` solution has several different methods that can be used to tag such data discovered. \n",
    "\n",
    "Terms to know:\n",
    "\n",
    "- Dictionary\n",
    "\n",
    "Set of patterns that can be matched, like ``regex`` or keywords.\n",
    "\n",
    "- Classification\n",
    "\n",
    "Confidentiality tag that is attached to data and can be quickly identified.\n",
    "\n",
    "- Exact Data Match - ``EDM``\n",
    "\n",
    "Pattern matching is best used for strings of exact numbers like drivers licenses or passport numbers; tends to have false positives.\n",
    "\n",
    "- Policy Template\n",
    "\n",
    "Templates are tailored to specific regulatory schemas like ``HIPAA`` or ``GDPR``.\n",
    "\n",
    "- Document Matching\n",
    "\n",
    "Searching for whole documents as a fingerprint.\n",
    "\n",
    "- Statistical/Lexicon\n",
    "\n",
    "Using Machine Learning (``ML``) to analyze unique data for trends like hand-written medical notes.\n",
    "\n",
    "Should have a firm applied understanding of when each of these would be used and applied."
   ]
  },
  {
   "cell_type": "markdown",
   "id": "2cc20932",
   "metadata": {},
   "source": [
    "***\n",
    "## END"
   ]
  },
  {
   "cell_type": "markdown",
   "id": "e0e42d51",
   "metadata": {},
   "source": [
    "< [Table of Contents](#top) >\n",
    "<a id=\"references\"></a>\n",
    "***\n",
    "## References\n",
    "***"
   ]
  },
  {
   "cell_type": "markdown",
   "id": "757bf6de",
   "metadata": {},
   "source": [
    "&nbsp;&nbsp;&nbsp;&nbsp;&nbsp;&nbsp;&nbsp;&nbsp;&nbsp;cybrary, \"Data and Privacy Controls,\" [cybrary.it](https://web.archive.org/web/20220724081418/https://www.cybrary.it/), n.d.."
   ]
  },
  {
   "cell_type": "markdown",
   "id": "b33c372a",
   "metadata": {},
   "source": [
    "***\n",
    "## END"
   ]
  },
  {
   "cell_type": "markdown",
   "id": "e5961b4d",
   "metadata": {},
   "source": [
    "< [Table of Contents](#top) | [References](#references) >\n",
    "<a id=\"appendix\"></a>\n",
    "***\n",
    "## Appendix\n",
    "***"
   ]
  },
  {
   "cell_type": "markdown",
   "id": "e36aa94e",
   "metadata": {},
   "source": [
    "< [Table of Contents](#top) | [References](#references) >\n",
    "<a id=\"appendix1\"></a>\n",
    "***\n",
    "###### Terms\n",
    "***"
   ]
  },
  {
   "cell_type": "markdown",
   "id": "41b2a797",
   "metadata": {},
   "source": [
    "Some more terms to keep in mind.\n",
    "\n",
    "> De-Identification\n",
    "\n",
    "In data protection, methods and technologies that remove identifying information from data before it is distributed.\n",
    "\n",
    "> Data Masking\n",
    "\n",
    "A de-identification method where generic placeholder labels are substituted for real data while preserving the structure or format of the original data.\n",
    "\n",
    "> Tokenization\n",
    "\n",
    "A de-identification method where a unique token is substituted for real data.\n",
    "\n",
    "> Digital Rights Management - ``DRM``\n",
    "\n",
    "Copyright protection technologies for digital media. \n",
    "\n",
    "``DRM`` solutions usually try to restrict the number of devices allowed for playback of a licensed digital file, such as music or ebooks. \n",
    "\n",
    "- Authorized viewers and authorized players can have specific ``DRM`` controls applied to them - can watermark content to prevent resale or copying - can also limit viewing to only certified players.\n",
    "\n",
    "> Watermarking\n",
    "\n",
    "Methods and technologies that apply a unique anti-tamper signature or message to a copy of a document or piece of media."
   ]
  },
  {
   "cell_type": "markdown",
   "id": "00d82a82",
   "metadata": {},
   "source": [
    "***\n",
    "## END"
   ]
  },
  {
   "cell_type": "code",
   "execution_count": 1,
   "id": "706756a2",
   "metadata": {},
   "outputs": [
    {
     "data": {
      "text/html": [
       "<style>.container { width:100% !important; }</style>"
      ],
      "text/plain": [
       "<IPython.core.display.HTML object>"
      ]
     },
     "metadata": {},
     "output_type": "display_data"
    }
   ],
   "source": [
    "from IPython.display import display,HTML\n",
    "display(HTML(\"<style>.container { width:100% !important; }</style>\"))"
   ]
  },
  {
   "cell_type": "markdown",
   "id": "899c1783",
   "metadata": {},
   "source": [
    "# END JUPYTER NOTEBOOK"
   ]
  }
 ],
 "metadata": {
  "kernelspec": {
   "display_name": "Python 3 (ipykernel)",
   "language": "python",
   "name": "python3"
  },
  "language_info": {
   "codemirror_mode": {
    "name": "ipython",
    "version": 3
   },
   "file_extension": ".py",
   "mimetype": "text/x-python",
   "name": "python",
   "nbconvert_exporter": "python",
   "pygments_lexer": "ipython3",
   "version": "3.9.12"
  }
 },
 "nbformat": 4,
 "nbformat_minor": 5
}
